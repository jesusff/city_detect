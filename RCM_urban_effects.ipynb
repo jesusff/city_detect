{
 "cells": [
  {
   "cell_type": "markdown",
   "id": "2df9ec30-6c2f-46b8-895d-0b9c3c7ddae8",
   "metadata": {},
   "source": [
    "# RCM city detection\n",
    "\n",
    "Looking for urban effects in RCM simulations"
   ]
  },
  {
   "cell_type": "code",
   "execution_count": 1,
   "id": "9239a4b8-882b-43e9-b127-8c0d52198772",
   "metadata": {},
   "outputs": [],
   "source": [
    "from pyesgf.logon import LogonManager\n",
    "from pyesgf.search import SearchConnection\n",
    "import cartopy.crs as ccrs\n",
    "import dask\n",
    "import json\n",
    "import matplotlib.pyplot as plt\n",
    "import numpy as np\n",
    "import os\n",
    "import xarray as xr"
   ]
  },
  {
   "cell_type": "code",
   "execution_count": 2,
   "id": "6d1b20f4-e9f3-4bc6-8464-f0b0c03cfb2d",
   "metadata": {},
   "outputs": [],
   "source": [
    "var = 'tasmin' # 'rlus'\n",
    "rcm = 'CCLM4-8-17'\n",
    "rcm = 'WRF381P'\n",
    "rcm = 'RegCM4-6'\n",
    "city = 'Paris'\n",
    "location = dict(\n",
    "      Madrid = dict(lon= -3.70, lat=40.42),\n",
    "         NYC = dict(lon=-73.96, lat=40.73),\n",
    "       Paris = dict(lon=  2.35, lat=48.85),\n",
    "  Washington = dict(lon=-77.00, lat=38.90)\n",
    ")\n",
    "domain = dict(\n",
    "      Madrid = 'EUR-11',\n",
    "         NYC = 'NAM-22',\n",
    "       Paris = 'EUR-11',\n",
    "  Washington = 'NAM-22'\n",
    ")\n",
    "dlon = 20\n",
    "dlat = 20\n",
    "os.environ[\"ESGF_PYCLIENT_NO_FACETS_STAR_WARNING\"] = \"1\"\n",
    "os.environ[\"MESA_LOADER_DRIVER_OVERRIDE\"]=\"i965\"\n",
    "# Deal with non-standard names...\n",
    "rlat_names = {'rlat', 'y'}\n",
    "rlon_names = {'rlon', 'x'}\n",
    "rotated_pole_names = {'rotated_pole', 'rotated_latitude_longitude', 'Lambert_Conformal'}\n",
    "\n",
    "vardic = dict(\n",
    "  project='CORDEX',\n",
    "  experiment=['evaluation',],\n",
    "  rcm_name = rcm,\n",
    "  domain = domain[city],\n",
    "  variable=[var,],\n",
    "  time_frequency = 'day',\n",
    "  facets = 'dataset_id'\n",
    ")\n",
    "\n",
    "def select_name(names, avail_names):\n",
    "  return(list(names.intersection(list(avail_names)))[0])\n",
    "    \n",
    "def ESGF_login():\n",
    "  lm = LogonManager()\n",
    "  lm.logoff()\n",
    "  with open(\"openid.json\") as fp:\n",
    "    lm.logon_with_openid(**json.load(fp))\n",
    "  if lm.is_logged_on():\n",
    "    print(\"You are logged in!\")\n",
    "  else:\n",
    "    print(\"/!\\ There was some problem logging in\")\n",
    "\n",
    "def index_argmax(ds):\n",
    "  rlon_name = select_name(rlon_names, ds.coords)\n",
    "  rlat_name = select_name(rlat_names, ds.coords)\n",
    "  rval = (\n",
    "    ds[var]\n",
    "      .isel(time = (\n",
    "        ds[var]\n",
    "           .isel(**{rlon_name: dlon, rlat_name: dlat})\n",
    "           .argmax(dim='time')\n",
    "           .values\n",
    "        )\n",
    "      )\n",
    "  )\n",
    "  rval = rval - rval.isel(**{rlon_name: dlon, rlat_name: dlat}).values\n",
    "  return(rval)\n",
    "\n",
    "def index_quantile(ds):\n",
    "  return(\n",
    "    (ds - ds.mean(dim=['rlon','rlat']))[var]\n",
    "  #  (ds[var] - ds[var].isel(rlon=5,rlat=4).drop(['rlon', 'rlat','lon','lat',]))\n",
    "      .groupby('time.season')\n",
    "      .quantile(0.95, 'time')\n",
    "      .sel(season='JJA')\n",
    "  )\n",
    "\n",
    "compute_index = index_argmax"
   ]
  },
  {
   "cell_type": "code",
   "execution_count": 3,
   "id": "71a8e8ae",
   "metadata": {
    "tags": []
   },
   "outputs": [
    {
     "name": "stdout",
     "output_type": "stream",
     "text": [
      "CPU times: user 27.2 ms, sys: 5.52 ms, total: 32.7 ms\n",
      "Wall time: 12.3 s\n"
     ]
    },
    {
     "data": {
      "text/plain": [
       "['http://esgf-ictp.hpc.cineca.it/thredds/dodsC/esg_dataroot/cordex/output/EUR-11/ICTP/ECMWF-ERAINT/evaluation/r1i1p1/ICTP-RegCM4-6/v1/day/tasmin/v20190502/tasmin_EUR-11_ECMWF-ERAINT_evaluation_r1i1p1_ICTP-RegCM4-6_v1_day_19800101-19801231.nc',\n",
       " 'http://esgf-ictp.hpc.cineca.it/thredds/dodsC/esg_dataroot/cordex/output/EUR-11/ICTP/ECMWF-ERAINT/evaluation/r1i1p1/ICTP-RegCM4-6/v1/day/tasmin/v20190502/tasmin_EUR-11_ECMWF-ERAINT_evaluation_r1i1p1_ICTP-RegCM4-6_v1_day_19810101-19811231.nc',\n",
       " 'http://esgf-ictp.hpc.cineca.it/thredds/dodsC/esg_dataroot/cordex/output/EUR-11/ICTP/ECMWF-ERAINT/evaluation/r1i1p1/ICTP-RegCM4-6/v1/day/tasmin/v20190502/tasmin_EUR-11_ECMWF-ERAINT_evaluation_r1i1p1_ICTP-RegCM4-6_v1_day_19820101-19821231.nc',\n",
       " 'http://esgf-ictp.hpc.cineca.it/thredds/dodsC/esg_dataroot/cordex/output/EUR-11/ICTP/ECMWF-ERAINT/evaluation/r1i1p1/ICTP-RegCM4-6/v1/day/tasmin/v20190502/tasmin_EUR-11_ECMWF-ERAINT_evaluation_r1i1p1_ICTP-RegCM4-6_v1_day_19830101-19831231.nc',\n",
       " 'http://esgf-ictp.hpc.cineca.it/thredds/dodsC/esg_dataroot/cordex/output/EUR-11/ICTP/ECMWF-ERAINT/evaluation/r1i1p1/ICTP-RegCM4-6/v1/day/tasmin/v20190502/tasmin_EUR-11_ECMWF-ERAINT_evaluation_r1i1p1_ICTP-RegCM4-6_v1_day_19840101-19841231.nc',\n",
       " 'http://esgf-ictp.hpc.cineca.it/thredds/dodsC/esg_dataroot/cordex/output/EUR-11/ICTP/ECMWF-ERAINT/evaluation/r1i1p1/ICTP-RegCM4-6/v1/day/tasmin/v20190502/tasmin_EUR-11_ECMWF-ERAINT_evaluation_r1i1p1_ICTP-RegCM4-6_v1_day_19850101-19851231.nc',\n",
       " 'http://esgf-ictp.hpc.cineca.it/thredds/dodsC/esg_dataroot/cordex/output/EUR-11/ICTP/ECMWF-ERAINT/evaluation/r1i1p1/ICTP-RegCM4-6/v1/day/tasmin/v20190502/tasmin_EUR-11_ECMWF-ERAINT_evaluation_r1i1p1_ICTP-RegCM4-6_v1_day_19860101-19861231.nc',\n",
       " 'http://esgf-ictp.hpc.cineca.it/thredds/dodsC/esg_dataroot/cordex/output/EUR-11/ICTP/ECMWF-ERAINT/evaluation/r1i1p1/ICTP-RegCM4-6/v1/day/tasmin/v20190502/tasmin_EUR-11_ECMWF-ERAINT_evaluation_r1i1p1_ICTP-RegCM4-6_v1_day_19870101-19871231.nc',\n",
       " 'http://esgf-ictp.hpc.cineca.it/thredds/dodsC/esg_dataroot/cordex/output/EUR-11/ICTP/ECMWF-ERAINT/evaluation/r1i1p1/ICTP-RegCM4-6/v1/day/tasmin/v20190502/tasmin_EUR-11_ECMWF-ERAINT_evaluation_r1i1p1_ICTP-RegCM4-6_v1_day_19880101-19881231.nc',\n",
       " 'http://esgf-ictp.hpc.cineca.it/thredds/dodsC/esg_dataroot/cordex/output/EUR-11/ICTP/ECMWF-ERAINT/evaluation/r1i1p1/ICTP-RegCM4-6/v1/day/tasmin/v20190502/tasmin_EUR-11_ECMWF-ERAINT_evaluation_r1i1p1_ICTP-RegCM4-6_v1_day_19890101-19891231.nc',\n",
       " 'http://esgf-ictp.hpc.cineca.it/thredds/dodsC/esg_dataroot/cordex/output/EUR-11/ICTP/ECMWF-ERAINT/evaluation/r1i1p1/ICTP-RegCM4-6/v1/day/tasmin/v20190502/tasmin_EUR-11_ECMWF-ERAINT_evaluation_r1i1p1_ICTP-RegCM4-6_v1_day_19900101-19901231.nc',\n",
       " 'http://esgf-ictp.hpc.cineca.it/thredds/dodsC/esg_dataroot/cordex/output/EUR-11/ICTP/ECMWF-ERAINT/evaluation/r1i1p1/ICTP-RegCM4-6/v1/day/tasmin/v20190502/tasmin_EUR-11_ECMWF-ERAINT_evaluation_r1i1p1_ICTP-RegCM4-6_v1_day_19910101-19911231.nc',\n",
       " 'http://esgf-ictp.hpc.cineca.it/thredds/dodsC/esg_dataroot/cordex/output/EUR-11/ICTP/ECMWF-ERAINT/evaluation/r1i1p1/ICTP-RegCM4-6/v1/day/tasmin/v20190502/tasmin_EUR-11_ECMWF-ERAINT_evaluation_r1i1p1_ICTP-RegCM4-6_v1_day_19920101-19921231.nc',\n",
       " 'http://esgf-ictp.hpc.cineca.it/thredds/dodsC/esg_dataroot/cordex/output/EUR-11/ICTP/ECMWF-ERAINT/evaluation/r1i1p1/ICTP-RegCM4-6/v1/day/tasmin/v20190502/tasmin_EUR-11_ECMWF-ERAINT_evaluation_r1i1p1_ICTP-RegCM4-6_v1_day_19930101-19931231.nc',\n",
       " 'http://esgf-ictp.hpc.cineca.it/thredds/dodsC/esg_dataroot/cordex/output/EUR-11/ICTP/ECMWF-ERAINT/evaluation/r1i1p1/ICTP-RegCM4-6/v1/day/tasmin/v20190502/tasmin_EUR-11_ECMWF-ERAINT_evaluation_r1i1p1_ICTP-RegCM4-6_v1_day_19940101-19941231.nc',\n",
       " 'http://esgf-ictp.hpc.cineca.it/thredds/dodsC/esg_dataroot/cordex/output/EUR-11/ICTP/ECMWF-ERAINT/evaluation/r1i1p1/ICTP-RegCM4-6/v1/day/tasmin/v20190502/tasmin_EUR-11_ECMWF-ERAINT_evaluation_r1i1p1_ICTP-RegCM4-6_v1_day_19950101-19951231.nc',\n",
       " 'http://esgf-ictp.hpc.cineca.it/thredds/dodsC/esg_dataroot/cordex/output/EUR-11/ICTP/ECMWF-ERAINT/evaluation/r1i1p1/ICTP-RegCM4-6/v1/day/tasmin/v20190502/tasmin_EUR-11_ECMWF-ERAINT_evaluation_r1i1p1_ICTP-RegCM4-6_v1_day_19960101-19961231.nc',\n",
       " 'http://esgf-ictp.hpc.cineca.it/thredds/dodsC/esg_dataroot/cordex/output/EUR-11/ICTP/ECMWF-ERAINT/evaluation/r1i1p1/ICTP-RegCM4-6/v1/day/tasmin/v20190502/tasmin_EUR-11_ECMWF-ERAINT_evaluation_r1i1p1_ICTP-RegCM4-6_v1_day_19970101-19971231.nc',\n",
       " 'http://esgf-ictp.hpc.cineca.it/thredds/dodsC/esg_dataroot/cordex/output/EUR-11/ICTP/ECMWF-ERAINT/evaluation/r1i1p1/ICTP-RegCM4-6/v1/day/tasmin/v20190502/tasmin_EUR-11_ECMWF-ERAINT_evaluation_r1i1p1_ICTP-RegCM4-6_v1_day_19980101-19981231.nc',\n",
       " 'http://esgf-ictp.hpc.cineca.it/thredds/dodsC/esg_dataroot/cordex/output/EUR-11/ICTP/ECMWF-ERAINT/evaluation/r1i1p1/ICTP-RegCM4-6/v1/day/tasmin/v20190502/tasmin_EUR-11_ECMWF-ERAINT_evaluation_r1i1p1_ICTP-RegCM4-6_v1_day_19990101-19991231.nc',\n",
       " 'http://esgf-ictp.hpc.cineca.it/thredds/dodsC/esg_dataroot/cordex/output/EUR-11/ICTP/ECMWF-ERAINT/evaluation/r1i1p1/ICTP-RegCM4-6/v1/day/tasmin/v20190502/tasmin_EUR-11_ECMWF-ERAINT_evaluation_r1i1p1_ICTP-RegCM4-6_v1_day_20000101-20001231.nc',\n",
       " 'http://esgf-ictp.hpc.cineca.it/thredds/dodsC/esg_dataroot/cordex/output/EUR-11/ICTP/ECMWF-ERAINT/evaluation/r1i1p1/ICTP-RegCM4-6/v1/day/tasmin/v20190502/tasmin_EUR-11_ECMWF-ERAINT_evaluation_r1i1p1_ICTP-RegCM4-6_v1_day_20010101-20011231.nc',\n",
       " 'http://esgf-ictp.hpc.cineca.it/thredds/dodsC/esg_dataroot/cordex/output/EUR-11/ICTP/ECMWF-ERAINT/evaluation/r1i1p1/ICTP-RegCM4-6/v1/day/tasmin/v20190502/tasmin_EUR-11_ECMWF-ERAINT_evaluation_r1i1p1_ICTP-RegCM4-6_v1_day_20020101-20021231.nc',\n",
       " 'http://esgf-ictp.hpc.cineca.it/thredds/dodsC/esg_dataroot/cordex/output/EUR-11/ICTP/ECMWF-ERAINT/evaluation/r1i1p1/ICTP-RegCM4-6/v1/day/tasmin/v20190502/tasmin_EUR-11_ECMWF-ERAINT_evaluation_r1i1p1_ICTP-RegCM4-6_v1_day_20030101-20031231.nc',\n",
       " 'http://esgf-ictp.hpc.cineca.it/thredds/dodsC/esg_dataroot/cordex/output/EUR-11/ICTP/ECMWF-ERAINT/evaluation/r1i1p1/ICTP-RegCM4-6/v1/day/tasmin/v20190502/tasmin_EUR-11_ECMWF-ERAINT_evaluation_r1i1p1_ICTP-RegCM4-6_v1_day_20040101-20041231.nc',\n",
       " 'http://esgf-ictp.hpc.cineca.it/thredds/dodsC/esg_dataroot/cordex/output/EUR-11/ICTP/ECMWF-ERAINT/evaluation/r1i1p1/ICTP-RegCM4-6/v1/day/tasmin/v20190502/tasmin_EUR-11_ECMWF-ERAINT_evaluation_r1i1p1_ICTP-RegCM4-6_v1_day_20050101-20051231.nc',\n",
       " 'http://esgf-ictp.hpc.cineca.it/thredds/dodsC/esg_dataroot/cordex/output/EUR-11/ICTP/ECMWF-ERAINT/evaluation/r1i1p1/ICTP-RegCM4-6/v1/day/tasmin/v20190502/tasmin_EUR-11_ECMWF-ERAINT_evaluation_r1i1p1_ICTP-RegCM4-6_v1_day_20060101-20061231.nc',\n",
       " 'http://esgf-ictp.hpc.cineca.it/thredds/dodsC/esg_dataroot/cordex/output/EUR-11/ICTP/ECMWF-ERAINT/evaluation/r1i1p1/ICTP-RegCM4-6/v1/day/tasmin/v20190502/tasmin_EUR-11_ECMWF-ERAINT_evaluation_r1i1p1_ICTP-RegCM4-6_v1_day_20070101-20071231.nc',\n",
       " 'http://esgf-ictp.hpc.cineca.it/thredds/dodsC/esg_dataroot/cordex/output/EUR-11/ICTP/ECMWF-ERAINT/evaluation/r1i1p1/ICTP-RegCM4-6/v1/day/tasmin/v20190502/tasmin_EUR-11_ECMWF-ERAINT_evaluation_r1i1p1_ICTP-RegCM4-6_v1_day_20080101-20081231.nc',\n",
       " 'http://esgf-ictp.hpc.cineca.it/thredds/dodsC/esg_dataroot/cordex/output/EUR-11/ICTP/ECMWF-ERAINT/evaluation/r1i1p1/ICTP-RegCM4-6/v1/day/tasmin/v20190502/tasmin_EUR-11_ECMWF-ERAINT_evaluation_r1i1p1_ICTP-RegCM4-6_v1_day_20090101-20091231.nc',\n",
       " 'http://esgf-ictp.hpc.cineca.it/thredds/dodsC/esg_dataroot/cordex/output/EUR-11/ICTP/ECMWF-ERAINT/evaluation/r1i1p1/ICTP-RegCM4-6/v1/day/tasmin/v20190502/tasmin_EUR-11_ECMWF-ERAINT_evaluation_r1i1p1_ICTP-RegCM4-6_v1_day_20100101-20101231.nc',\n",
       " 'http://esgf-ictp.hpc.cineca.it/thredds/dodsC/esg_dataroot/cordex/output/EUR-11/ICTP/ECMWF-ERAINT/evaluation/r1i1p1/ICTP-RegCM4-6/v1/day/tasmin/v20190502/tasmin_EUR-11_ECMWF-ERAINT_evaluation_r1i1p1_ICTP-RegCM4-6_v1_day_20110101-20111231.nc',\n",
       " 'http://esgf-ictp.hpc.cineca.it/thredds/dodsC/esg_dataroot/cordex/output/EUR-11/ICTP/ECMWF-ERAINT/evaluation/r1i1p1/ICTP-RegCM4-6/v1/day/tasmin/v20190502/tasmin_EUR-11_ECMWF-ERAINT_evaluation_r1i1p1_ICTP-RegCM4-6_v1_day_20120101-20121231.nc',\n",
       " 'http://esgf-ictp.hpc.cineca.it/thredds/dodsC/esg_dataroot/cordex/output/EUR-11/ICTP/ECMWF-ERAINT/evaluation/r1i1p1/ICTP-RegCM4-6/v1/day/tasmin/v20190502/tasmin_EUR-11_ECMWF-ERAINT_evaluation_r1i1p1_ICTP-RegCM4-6_v1_day_20130101-20131231.nc',\n",
       " 'http://esgf-ictp.hpc.cineca.it/thredds/dodsC/esg_dataroot/cordex/output/EUR-11/ICTP/ECMWF-ERAINT/evaluation/r1i1p1/ICTP-RegCM4-6/v1/day/tasmin/v20190502/tasmin_EUR-11_ECMWF-ERAINT_evaluation_r1i1p1_ICTP-RegCM4-6_v1_day_20140101-20141231.nc',\n",
       " 'http://esgf-ictp.hpc.cineca.it/thredds/dodsC/esg_dataroot/cordex/output/EUR-11/ICTP/ECMWF-ERAINT/evaluation/r1i1p1/ICTP-RegCM4-6/v1/day/tasmin/v20190502/tasmin_EUR-11_ECMWF-ERAINT_evaluation_r1i1p1_ICTP-RegCM4-6_v1_day_20150101-20151231.nc',\n",
       " 'http://esgf-ictp.hpc.cineca.it/thredds/dodsC/esg_dataroot/cordex/output/EUR-11/ICTP/ECMWF-ERAINT/evaluation/r1i1p1/ICTP-RegCM4-6/v1/day/tasmin/v20190502/tasmin_EUR-11_ECMWF-ERAINT_evaluation_r1i1p1_ICTP-RegCM4-6_v1_day_20160101-20161130.nc']"
      ]
     },
     "execution_count": 3,
     "metadata": {},
     "output_type": "execute_result"
    }
   ],
   "source": [
    "%%time\n",
    "\n",
    "def get_opendap_urls(vardic, ires=0):\n",
    "  nodeURL = 'http://esgf-data.dkrz.de/esg-search'\n",
    "  conn = SearchConnection(nodeURL, distrib=True)\n",
    "  ctx = conn.new_context(**vardic)\n",
    "  results = ctx.search(batch_size=200)\n",
    "  dids = [result.dataset_id for result in results]\n",
    "  files = results[ires].file_context().search()\n",
    "  return([file.opendap_url for file in files])\n",
    "\n",
    "opendap_urls = get_opendap_urls(vardic)\n",
    "opendap_urls"
   ]
  },
  {
   "cell_type": "markdown",
   "id": "761325c4",
   "metadata": {},
   "source": [
    "Crop the area around the city and persist the data on a NetCDF file. We need to log in to ESGF to actually retrieve data."
   ]
  },
  {
   "cell_type": "code",
   "execution_count": null,
   "id": "90194176",
   "metadata": {
    "tags": []
   },
   "outputs": [],
   "source": [
    "%%time\n",
    "\n",
    "def dump_netcdf(var, location, opendap_urls, nc):\n",
    "  ESGF_login()\n",
    "  ds = xr.open_mfdataset(opendap_urls,\n",
    "    parallel=True, chunks={'time':100},\n",
    "    combine='nested', concat_dim='time',\n",
    "    drop_variables = ['time_bnds']\n",
    "  )\n",
    "  ds.isel(time=0).to_netcdf('test.nc')\n",
    "  #\n",
    "  #  Crop area around the city\n",
    "  #\n",
    "  dist = (ds['lon']-location[city]['lon'])**2 + (ds['lat']-location[city]['lat'])**2\n",
    "  [ilat], [ilon] = np.where(dist == np.min(dist))\n",
    "  ds_city = ds.isel(**{\n",
    "    select_name(rlat_names, ds.coords): slice(ilat-dlat,ilat+dlat),\n",
    "    select_name(rlon_names, ds.coords): slice(ilon-dlon,ilon+dlon)\n",
    "  })\n",
    "  ds_city.to_netcdf(nc, encoding = { var: {\"zlib\": True, \"complevel\": 9} })\n",
    "\n",
    "fname = os.path.basename(opendap_urls[0])[:-21] + f'_{city}.nc'\n",
    "if not os.path.exists(fname):\n",
    "  dump_netcdf(var, location, opendap_urls, fname)"
   ]
  },
  {
   "cell_type": "markdown",
   "id": "8d8f9910",
   "metadata": {
    "tags": []
   },
   "source": [
    "## Plot index"
   ]
  },
  {
   "cell_type": "markdown",
   "id": "5997132a",
   "metadata": {},
   "source": [
    "Plot the index projected on native coordinates"
   ]
  },
  {
   "cell_type": "code",
   "execution_count": null,
   "id": "26ea0e80-5510-4be0-9c76-c97cfacd8940",
   "metadata": {},
   "outputs": [],
   "source": [
    "def plot_projected(index, dset):\n",
    "  lonlat = ccrs.PlateCarree()\n",
    "  projvar = select_name(rotated_pole_names, dset.data_vars)\n",
    "  if projvar.startswith('rotated'):\n",
    "    proj = ccrs.RotatedPole(\n",
    "      pole_longitude=dset[projvar].grid_north_pole_longitude,\n",
    "      pole_latitude=dset[projvar].grid_north_pole_latitude\n",
    "    )\n",
    "  else:\n",
    "    proj = ccrs.LambertConformal(\n",
    "      central_longitude=dset[projvar].longitude_of_central_meridian,\n",
    "      central_latitude=dset[projvar].latitude_of_projection_origin,\n",
    "      secant_latitudes=None,\n",
    "      standard_parallels=[dset[projvar].standard_parallel]\n",
    "    )\n",
    "  f = plt.figure()\n",
    "  ax = plt.axes(projection=proj)\n",
    "  index.plot.pcolormesh(\n",
    "    #ax=ax, x='lon', y='lat', transform=lonlat, cmap=plt.cm.YlOrBr#, vmax=10\n",
    "    ax=ax, x='lon', y='lat', transform=lonlat, cmap=plt.cm.RdBu_r, vmax=5\n",
    "  )\n",
    "  ax.coastlines(resolution='50m', linewidth=1, color='gray')\n",
    "  ax.scatter(location[city]['lon'], location[city]['lat'], transform=lonlat, s=200, facecolor='none', edgecolor='grey')\n",
    "  f.savefig(fname.replace('nc','png'), facecolor='white')\n",
    "  plt.show()\n",
    "  plt.close('all')"
   ]
  },
  {
   "cell_type": "code",
   "execution_count": null,
   "id": "c5229c0f-c71d-485c-bddd-94c54893d843",
   "metadata": {},
   "outputs": [],
   "source": [
    "ds_city = xr.open_dataset(fname)\n",
    "index = compute_index(ds_city)\n",
    "plot_projected(index, ds_city)"
   ]
  }
 ],
 "metadata": {
  "kernelspec": {
   "display_name": "Python 3 (ipykernel)",
   "language": "python",
   "name": "python3"
  },
  "language_info": {
   "codemirror_mode": {
    "name": "ipython",
    "version": 3
   },
   "file_extension": ".py",
   "mimetype": "text/x-python",
   "name": "python",
   "nbconvert_exporter": "python",
   "pygments_lexer": "ipython3",
   "version": "3.9.12"
  }
 },
 "nbformat": 4,
 "nbformat_minor": 5
}
