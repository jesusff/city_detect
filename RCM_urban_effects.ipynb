{
 "cells": [
  {
   "cell_type": "markdown",
   "id": "2df9ec30-6c2f-46b8-895d-0b9c3c7ddae8",
   "metadata": {},
   "source": [
    "# RCM city detection\n",
    "\n",
    "Looking for urban effects in RCM simulations"
   ]
  },
  {
   "cell_type": "code",
   "execution_count": 1,
   "id": "9239a4b8-882b-43e9-b127-8c0d52198772",
   "metadata": {},
   "outputs": [],
   "source": [
    "from pyesgf.logon import LogonManager\n",
    "from pyesgf.search import SearchConnection\n",
    "import dask\n",
    "import json\n",
    "import matplotlib.pyplot as plt\n",
    "import numpy as np\n",
    "import os\n",
    "import xarray as xr"
   ]
  },
  {
   "cell_type": "code",
   "execution_count": 2,
   "id": "6d1b20f4-e9f3-4bc6-8464-f0b0c03cfb2d",
   "metadata": {},
   "outputs": [],
   "source": [
    "var = 'tasmin' # 'rlus'\n",
    "rcm = 'RCA4'\n",
    "city = 'Paris'\n",
    "location = dict(\n",
    "         NYC = dict(lon=-73.96, lat=40.73),\n",
    "  Washington = dict(lon=-77.00, lat=38.90),\n",
    "       Paris = dict(lon=  2.35, lat=48.85)\n",
    ")\n",
    "domain = dict(\n",
    "         NYC = 'NAM-22',\n",
    "  Washington = 'NAM-22',\n",
    "       Paris = 'EUR-11'\n",
    ")\n",
    "dlon = 20\n",
    "dlat = 20\n",
    "os.environ[\"ESGF_PYCLIENT_NO_FACETS_STAR_WARNING\"] = \"1\"\n",
    "os.environ[\"MESA_LOADER_DRIVER_OVERRIDE\"]=\"i965\"\n",
    "\n",
    "sftlf = dict(\n",
    "  project='CORDEX',\n",
    "  experiment=['evaluation',],\n",
    "  rcm_name = 'CRCM5',\n",
    "  domain = 'NAM-22',\n",
    "  variable=['sftlf',],\n",
    "  time_frequency = 'fx',\n",
    "  facets = 'dataset_id'\n",
    ")\n",
    "\n",
    "vardic = dict(\n",
    "  project='CORDEX',\n",
    "  experiment=['evaluation',],\n",
    "  rcm_name = rcm,\n",
    "  domain = domain[city],\n",
    "  variable=[var,],\n",
    "  time_frequency = 'day',\n",
    "  facets = 'dataset_id'\n",
    ")\n",
    "\n",
    "nodeURL = 'http://esgf-data.dkrz.de/esg-search'\n",
    "#nodeURL = 'https://esgf-index1.ceda.ac.uk/esg-search'\n",
    "conn = SearchConnection(nodeURL, distrib=True)\n",
    "\n",
    "def ESGF_login():\n",
    "  lm = LogonManager()\n",
    "  lm.logoff()\n",
    "  with open(\"openid.json\") as fp:\n",
    "    lm.logon_with_openid(**json.load(fp))\n",
    "  if lm.is_logged_on():\n",
    "    print(\"You are logged in!\")\n",
    "  else:\n",
    "    print(\"/!\\ There was some problem logging in\")\n",
    "\n",
    "def index_argmax(ds):    \n",
    "  return(\n",
    "    ds[var]\n",
    "      .isel(time = ds[var].mean(dim=['rlon','rlat']).argmax(dim='time').values)\n",
    "  )\n",
    "\n",
    "def index_quantile(ds):\n",
    "  return(\n",
    "    (ds - ds.mean(dim=['rlon','rlat']))[var]\n",
    "  #  (ds[var] - ds[var].isel(rlon=5,rlat=4).drop(['rlon', 'rlat','lon','lat',]))\n",
    "      .groupby('time.season')\n",
    "      .quantile(0.95, 'time')\n",
    "      .sel(season='JJA')\n",
    "  )\n",
    "\n",
    "compute_index = index_argmax"
   ]
  },
  {
   "cell_type": "markdown",
   "id": "e02f8706-a229-49b1-8c4f-886033bd3076",
   "metadata": {},
   "source": [
    "We need to log in to ESGF to retrieve data"
   ]
  },
  {
   "cell_type": "code",
   "execution_count": 3,
   "id": "95f0dbf6-9616-48e3-b3ba-d780a8ac14c7",
   "metadata": {},
   "outputs": [
    {
     "name": "stdout",
     "output_type": "stream",
     "text": [
      "You are logged in!\n"
     ]
    }
   ],
   "source": [
    "ESGF_login()"
   ]
  },
  {
   "cell_type": "markdown",
   "id": "90968946-ed00-462b-aa2a-14e3b00512dd",
   "metadata": {},
   "source": [
    "Persist the data on disk"
   ]
  },
  {
   "cell_type": "code",
   "execution_count": 4,
   "id": "44973481",
   "metadata": {
    "tags": []
   },
   "outputs": [
    {
     "data": {
      "text/plain": [
       "['http://esg-dn1.nsc.liu.se/thredds/dodsC/esg_dataroot1/cordexdata/cordex/output/EUR-11/SMHI/ECMWF-ERAINT/evaluation/r1i1p1/SMHI-RCA4/v1/day/tasmin/v20131026/tasmin_EUR-11_ECMWF-ERAINT_evaluation_r1i1p1_SMHI-RCA4_v1_day_19800101-19801231.nc',\n",
       " 'http://esg-dn1.nsc.liu.se/thredds/dodsC/esg_dataroot1/cordexdata/cordex/output/EUR-11/SMHI/ECMWF-ERAINT/evaluation/r1i1p1/SMHI-RCA4/v1/day/tasmin/v20131026/tasmin_EUR-11_ECMWF-ERAINT_evaluation_r1i1p1_SMHI-RCA4_v1_day_19810101-19851231.nc',\n",
       " 'http://esg-dn1.nsc.liu.se/thredds/dodsC/esg_dataroot1/cordexdata/cordex/output/EUR-11/SMHI/ECMWF-ERAINT/evaluation/r1i1p1/SMHI-RCA4/v1/day/tasmin/v20131026/tasmin_EUR-11_ECMWF-ERAINT_evaluation_r1i1p1_SMHI-RCA4_v1_day_19860101-19901231.nc',\n",
       " 'http://esg-dn1.nsc.liu.se/thredds/dodsC/esg_dataroot1/cordexdata/cordex/output/EUR-11/SMHI/ECMWF-ERAINT/evaluation/r1i1p1/SMHI-RCA4/v1/day/tasmin/v20131026/tasmin_EUR-11_ECMWF-ERAINT_evaluation_r1i1p1_SMHI-RCA4_v1_day_19910101-19951231.nc',\n",
       " 'http://esg-dn1.nsc.liu.se/thredds/dodsC/esg_dataroot1/cordexdata/cordex/output/EUR-11/SMHI/ECMWF-ERAINT/evaluation/r1i1p1/SMHI-RCA4/v1/day/tasmin/v20131026/tasmin_EUR-11_ECMWF-ERAINT_evaluation_r1i1p1_SMHI-RCA4_v1_day_19960101-20001231.nc',\n",
       " 'http://esg-dn1.nsc.liu.se/thredds/dodsC/esg_dataroot1/cordexdata/cordex/output/EUR-11/SMHI/ECMWF-ERAINT/evaluation/r1i1p1/SMHI-RCA4/v1/day/tasmin/v20131026/tasmin_EUR-11_ECMWF-ERAINT_evaluation_r1i1p1_SMHI-RCA4_v1_day_20010101-20051231.nc',\n",
       " 'http://esg-dn1.nsc.liu.se/thredds/dodsC/esg_dataroot1/cordexdata/cordex/output/EUR-11/SMHI/ECMWF-ERAINT/evaluation/r1i1p1/SMHI-RCA4/v1/day/tasmin/v20131026/tasmin_EUR-11_ECMWF-ERAINT_evaluation_r1i1p1_SMHI-RCA4_v1_day_20060101-20101231.nc']"
      ]
     },
     "execution_count": 4,
     "metadata": {},
     "output_type": "execute_result"
    }
   ],
   "source": [
    "%%time\n",
    "\n",
    "ctx = conn.new_context(**vardic)\n",
    "results = ctx.search(batch_size=200)\n",
    "dids = [result.dataset_id for result in results]\n",
    "ires = 0\n",
    "files = results[ires].file_context().search()\n",
    "opendap_urls = [file.opendap_url for file in files]\n",
    "\n",
    "opendap_urls"
   ]
  },
  {
   "cell_type": "code",
   "execution_count": 9,
   "id": "db4a403f",
   "metadata": {
    "tags": []
   },
   "outputs": [
    {
     "name": "stdout",
     "output_type": "stream",
     "text": [
      "CPU times: user 282 ms, sys: 55.8 ms, total: 338 ms\n",
      "Wall time: 2.46 s\n"
     ]
    }
   ],
   "source": [
    "%%time\n",
    "\n",
    "ds = xr.open_mfdataset(opendap_urls,\n",
    "  parallel=True, chunks={'time':100},\n",
    "  combine='nested', concat_dim='time',\n",
    "  drop_variables = ['time_bnds']\n",
    ")\n",
    "ds.isel(time=0).to_netcdf('test.nc')"
   ]
  },
  {
   "cell_type": "code",
   "execution_count": null,
   "id": "76143ea6",
   "metadata": {
    "tags": []
   },
   "outputs": [],
   "source": [
    "%%time\n",
    "\n",
    "dist = (ds['lon']-location[city]['lon'])**2 + (ds['lat']-location[city]['lat'])**2\n",
    "[ilat], [ilon] = np.where(dist == np.min(dist))\n",
    "ds_city = ds.isel(rlat=slice(ilat-dlat,ilat+dlat), rlon=slice(ilon-dlon,ilon+dlon))\n",
    "#ds_city = ds.isel(y=slice(ilat-dlat,ilat+dlat), x=slice(ilon-dlon,ilon+dlon))\n",
    "fname = os.path.basename(opendap_urls[0])[:-21] + f'_{city}.nc'\n",
    "ds_city.to_netcdf(fname, encoding = { var: {\"zlib\": True, \"complevel\": 9} })"
   ]
  },
  {
   "cell_type": "code",
   "execution_count": 6,
   "id": "5e8557ca-bc23-4c7a-9cb5-d54d787430f7",
   "metadata": {},
   "outputs": [
    {
     "data": {
      "image/png": "[encoded data removed]",
      "text/plain": [
       "<Figure size 432x288 with 2 Axes>"
      ]
     },
     "metadata": {
      "needs_background": "light"
     },
     "output_type": "display_data"
    }
   ],
   "source": [
    "ds_city = xr.open_dataset(fname)\n",
    "index = compute_index(ds_city)\n",
    "# Projected plot\n",
    "import cartopy.crs as ccrs\n",
    "lonlat = ccrs.PlateCarree()\n",
    "projvar = 'rotated_pole'\n",
    "proj = ccrs.RotatedPole(\n",
    "  pole_longitude=ds_city[projvar].grid_north_pole_longitude,\n",
    "  pole_latitude=ds_city[projvar].grid_north_pole_latitude\n",
    ")\n",
    "f = plt.figure()\n",
    "ax = plt.axes(projection=proj)\n",
    "index.plot.pcolormesh(\n",
    "  ax=ax, x='lon', y='lat', transform=lonlat, cmap=plt.cm.YlOrBr#, vmax=10\n",
    "  #ax=ax, x='lon', y='lat', transform=lonlat, cmap=plt.cm.RdBu, vmax=5\n",
    ")\n",
    "ax.coastlines(resolution='50m', linewidth=1, color='gray')\n",
    "plt.show()\n",
    "plt.close('all')"
   ]
  }
 ],
 "metadata": {
  "kernelspec": {
   "display_name": "Python 3 (ipykernel)",
   "language": "python",
   "name": "python3"
  },
  "language_info": {
   "codemirror_mode": {
    "name": "ipython",
    "version": 3
   },
   "file_extension": ".py",
   "mimetype": "text/x-python",
   "name": "python",
   "nbconvert_exporter": "python",
   "pygments_lexer": "ipython3",
   "version": "3.9.12"
  }
 },
 "nbformat": 4,
 "nbformat_minor": 5
}
