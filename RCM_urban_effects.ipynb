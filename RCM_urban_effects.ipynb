{
 "cells": [
  {
   "cell_type": "markdown",
   "id": "2df9ec30-6c2f-46b8-895d-0b9c3c7ddae8",
   "metadata": {},
   "source": [
    "# RCM city detection\n",
    "\n",
    "Looking for urban effects in RCM simulations"
   ]
  },
  {
   "cell_type": "code",
   "execution_count": 1,
   "id": "9239a4b8-882b-43e9-b127-8c0d52198772",
   "metadata": {},
   "outputs": [],
   "source": [
    "from pyesgf.logon import LogonManager\n",
    "from pyesgf.search import SearchConnection\n",
    "import dask\n",
    "import json\n",
    "import matplotlib.pyplot as plt\n",
    "import numpy as np\n",
    "import os\n",
    "import xarray as xr"
   ]
  },
  {
   "cell_type": "code",
   "execution_count": 2,
   "id": "6d1b20f4-e9f3-4bc6-8464-f0b0c03cfb2d",
   "metadata": {},
   "outputs": [],
   "source": [
    "var = 'tasmin' # 'rlus'\n",
    "rcm = 'WRF381P'\n",
    "city = 'Paris'\n",
    "location = dict(\n",
    "      Madrid = dict(lon=-73.96, lat=40.73),\n",
    "         NYC = dict(lon=-73.96, lat=40.73),\n",
    "       Paris = dict(lon=  2.35, lat=48.85),\n",
    "  Washington = dict(lon=-77.00, lat=38.90)\n",
    ")\n",
    "domain = dict(\n",
    "         NYC = 'NAM-22',\n",
    "  Washington = 'NAM-22',\n",
    "       Paris = 'EUR-11'\n",
    ")\n",
    "dlon = 20\n",
    "dlat = 20\n",
    "os.environ[\"ESGF_PYCLIENT_NO_FACETS_STAR_WARNING\"] = \"1\"\n",
    "os.environ[\"MESA_LOADER_DRIVER_OVERRIDE\"]=\"i965\"\n",
    "\n",
    "sftlf = dict(\n",
    "  project='CORDEX',\n",
    "  experiment=['evaluation',],\n",
    "  rcm_name = 'CRCM5',\n",
    "  domain = 'NAM-22',\n",
    "  variable=['sftlf',],\n",
    "  time_frequency = 'fx',\n",
    "  facets = 'dataset_id'\n",
    ")\n",
    "\n",
    "vardic = dict(\n",
    "  project='CORDEX',\n",
    "  experiment=['evaluation',],\n",
    "  rcm_name = rcm,\n",
    "  domain = domain[city],\n",
    "  variable=[var,],\n",
    "  time_frequency = 'day',\n",
    "  facets = 'dataset_id'\n",
    ")\n",
    "\n",
    "def ESGF_login():\n",
    "  lm = LogonManager()\n",
    "  lm.logoff()\n",
    "  with open(\"openid.json\") as fp:\n",
    "    lm.logon_with_openid(**json.load(fp))\n",
    "  if lm.is_logged_on():\n",
    "    print(\"You are logged in!\")\n",
    "  else:\n",
    "    print(\"/!\\ There was some problem logging in\")\n",
    "\n",
    "def index_argmax(ds):    \n",
    "  return(\n",
    "    ds[var]\n",
    "      .isel(time = (\n",
    "        ds[var]\n",
    "           .isel(rlon = dlon, rlat = dlat)\n",
    "           .argmax(dim='time')\n",
    "           .values\n",
    "        )\n",
    "      )\n",
    "  )\n",
    "\n",
    "def index_quantile(ds):\n",
    "  return(\n",
    "    (ds - ds.mean(dim=['rlon','rlat']))[var]\n",
    "  #  (ds[var] - ds[var].isel(rlon=5,rlat=4).drop(['rlon', 'rlat','lon','lat',]))\n",
    "      .groupby('time.season')\n",
    "      .quantile(0.95, 'time')\n",
    "      .sel(season='JJA')\n",
    "  )\n",
    "\n",
    "compute_index = index_argmax"
   ]
  },
  {
   "cell_type": "code",
   "execution_count": 3,
   "id": "8ca29493",
   "metadata": {
    "tags": []
   },
   "outputs": [
    {
     "name": "stdout",
     "output_type": "stream",
     "text": [
      "CPU times: user 28 ms, sys: 3.04 ms, total: 31 ms\n",
      "Wall time: 2.44 s\n"
     ]
    },
    {
     "data": {
      "text/plain": [
       "['http://vesg.ipsl.upmc.fr/thredds/dodsC/cordex/output/EUR-11/IPSL/ECMWF-ERAINT/evaluation/r1i1p1/IPSL-WRF381P/v1/day/tasmin/v20190919/tasmin_EUR-11_ECMWF-ERAINT_evaluation_r1i1p1_IPSL-WRF381P_v1_day_19890101-19931231.nc',\n",
       " 'http://vesg.ipsl.upmc.fr/thredds/dodsC/cordex/output/EUR-11/IPSL/ECMWF-ERAINT/evaluation/r1i1p1/IPSL-WRF381P/v1/day/tasmin/v20190919/tasmin_EUR-11_ECMWF-ERAINT_evaluation_r1i1p1_IPSL-WRF381P_v1_day_19940101-19981231.nc',\n",
       " 'http://vesg.ipsl.upmc.fr/thredds/dodsC/cordex/output/EUR-11/IPSL/ECMWF-ERAINT/evaluation/r1i1p1/IPSL-WRF381P/v1/day/tasmin/v20190919/tasmin_EUR-11_ECMWF-ERAINT_evaluation_r1i1p1_IPSL-WRF381P_v1_day_19990101-20031231.nc',\n",
       " 'http://vesg.ipsl.upmc.fr/thredds/dodsC/cordex/output/EUR-11/IPSL/ECMWF-ERAINT/evaluation/r1i1p1/IPSL-WRF381P/v1/day/tasmin/v20190919/tasmin_EUR-11_ECMWF-ERAINT_evaluation_r1i1p1_IPSL-WRF381P_v1_day_20040101-20081231.nc']"
      ]
     },
     "execution_count": 3,
     "metadata": {},
     "output_type": "execute_result"
    }
   ],
   "source": [
    "%%time\n",
    "\n",
    "nodeURL = 'http://esgf-data.dkrz.de/esg-search'\n",
    "conn = SearchConnection(nodeURL, distrib=True)\n",
    "ctx = conn.new_context(**vardic)\n",
    "results = ctx.search(batch_size=200)\n",
    "dids = [result.dataset_id for result in results]\n",
    "ires = 0\n",
    "files = results[ires].file_context().search()\n",
    "opendap_urls = [file.opendap_url for file in files]\n",
    "\n",
    "opendap_urls"
   ]
  },
  {
   "cell_type": "markdown",
   "id": "c07dbb6f",
   "metadata": {},
   "source": [
    "We need to log in to ESGF to actually retrieve data. Let's test to persist some data on disk in a NetCDF file"
   ]
  },
  {
   "cell_type": "code",
   "execution_count": 4,
   "id": "d188a527",
   "metadata": {
    "tags": []
   },
   "outputs": [
    {
     "name": "stdout",
     "output_type": "stream",
     "text": [
      "You are logged in!\n",
      "CPU times: user 400 ms, sys: 183 ms, total: 583 ms\n",
      "Wall time: 9.12 s\n"
     ]
    }
   ],
   "source": [
    "%%time\n",
    "\n",
    "ESGF_login()\n",
    "ds = xr.open_mfdataset(opendap_urls,\n",
    "  parallel=True, chunks={'time':100},\n",
    "  combine='nested', concat_dim='time',\n",
    "  drop_variables = ['time_bnds']\n",
    ")\n",
    "ds.isel(time=0).to_netcdf('test.nc')"
   ]
  },
  {
   "cell_type": "markdown",
   "id": "95c337c2",
   "metadata": {},
   "source": [
    "Let's crop the area around the city"
   ]
  },
  {
   "cell_type": "code",
   "execution_count": 5,
   "id": "2a2399af",
   "metadata": {
    "tags": []
   },
   "outputs": [
    {
     "name": "stdout",
     "output_type": "stream",
     "text": [
      "CPU times: user 2.72 s, sys: 863 ms, total: 3.59 s\n",
      "Wall time: 1min 22s\n"
     ]
    }
   ],
   "source": [
    "%%time\n",
    "\n",
    "dist = (ds['lon']-location[city]['lon'])**2 + (ds['lat']-location[city]['lat'])**2\n",
    "[ilat], [ilon] = np.where(dist == np.min(dist))\n",
    "ds_city = ds.isel(rlat=slice(ilat-dlat,ilat+dlat), rlon=slice(ilon-dlon,ilon+dlon))\n",
    "#ds_city = ds.isel(y=slice(ilat-dlat,ilat+dlat), x=slice(ilon-dlon,ilon+dlon))\n",
    "fname = os.path.basename(opendap_urls[0])[:-21] + f'_{city}.nc'\n",
    "ds_city.to_netcdf(fname, encoding = { var: {\"zlib\": True, \"complevel\": 9} })"
   ]
  },
  {
   "cell_type": "markdown",
   "id": "e98e82a8",
   "metadata": {},
   "source": [
    "## Plot index"
   ]
  },
  {
   "cell_type": "code",
   "execution_count": 6,
   "id": "5e8557ca-bc23-4c7a-9cb5-d54d787430f7",
   "metadata": {
    "scrolled": false
   },
   "outputs": [
    {
     "data": {
      "image/png": "[encoded data removed]",
      "text/plain": [
       "<Figure size 432x288 with 2 Axes>"
      ]
     },
     "metadata": {
      "needs_background": "light"
     },
     "output_type": "display_data"
    }
   ],
   "source": [
    "ds_city = xr.open_dataset(fname)\n",
    "index = compute_index(ds_city)\n",
    "# Projected plot\n",
    "import cartopy.crs as ccrs\n",
    "lonlat = ccrs.PlateCarree()\n",
    "projvar = 'rotated_pole'\n",
    "proj = ccrs.RotatedPole(\n",
    "  pole_longitude=ds_city[projvar].grid_north_pole_longitude,\n",
    "  pole_latitude=ds_city[projvar].grid_north_pole_latitude\n",
    ")\n",
    "f = plt.figure()\n",
    "ax = plt.axes(projection=proj)\n",
    "index.plot.pcolormesh(\n",
    "  ax=ax, x='lon', y='lat', transform=lonlat, cmap=plt.cm.YlOrBr#, vmax=10\n",
    "  #ax=ax, x='lon', y='lat', transform=lonlat, cmap=plt.cm.RdBu, vmax=5\n",
    ")\n",
    "ax.coastlines(resolution='50m', linewidth=1, color='gray')\n",
    "plt.show()\n",
    "plt.close('all')"
   ]
  }
 ],
 "metadata": {
  "kernelspec": {
   "display_name": "Python 3 (ipykernel)",
   "language": "python",
   "name": "python3"
  },
  "language_info": {
   "codemirror_mode": {
    "name": "ipython",
    "version": 3
   },
   "file_extension": ".py",
   "mimetype": "text/x-python",
   "name": "python",
   "nbconvert_exporter": "python",
   "pygments_lexer": "ipython3",
   "version": "3.9.12"
  }
 },
 "nbformat": 4,
 "nbformat_minor": 5
}
